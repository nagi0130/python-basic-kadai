{
  "nbformat": 4,
  "nbformat_minor": 0,
  "metadata": {
    "colab": {
      "provenance": []
    },
    "kernelspec": {
      "name": "python3",
      "display_name": "Python 3"
    },
    "language_info": {
      "name": "python"
    }
  },
  "cells": [
    {
      "cell_type": "code",
      "execution_count": 20,
      "metadata": {
        "colab": {
          "base_uri": "https://localhost:8080/"
        },
        "id": "nXRCNPD1RM5_",
        "outputId": "360f9b57-7149-4260-97d6-b2a7df632735"
      },
      "outputs": [
        {
          "output_type": "stream",
          "name": "stdout",
          "text": [
            "太郎は大人です\n",
            "一郎は大人ではありません\n",
            "二郎は大人です\n",
            "三郎は大人です\n",
            "四郎は大人ではありません\n"
          ]
        }
      ],
      "source": [
        "class Human:\n",
        "    def __init__(self, name, age):\n",
        "        # 属性を定義する\n",
        "        self.name = name\n",
        "        self.age = age\n",
        "    def check_adult(self):\n",
        "        if self.age >= 20:\n",
        "            print(f\"{self.name}は大人です\")\n",
        "        else:\n",
        "            print(f\"{self.name}は大人ではありません\")\n",
        "\n",
        "names = [\"太郎\", \"一郎\", \"二郎\", \"三郎\", \"四郎\"]\n",
        "ages = [20,14,21,37,19]\n",
        "human_list = []\n",
        "i = 0\n",
        "for i in range(len(names)):\n",
        "    human_list.append(Human(names[i], ages[i]))\n",
        "\n",
        "n = 0\n",
        "for n in range(len(human_list)):\n",
        "    human_list[n].check_adult()\n",
        "\n",
        "\n",
        "\n",
        "\n",
        "\n",
        "\n"
      ]
    },
    {
      "cell_type": "code",
      "source": [],
      "metadata": {
        "id": "yU1rOQCfRjPl"
      },
      "execution_count": null,
      "outputs": []
    }
  ]
}