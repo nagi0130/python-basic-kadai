{
  "nbformat": 4,
  "nbformat_minor": 0,
  "metadata": {
    "colab": {
      "provenance": []
    },
    "kernelspec": {
      "name": "python3",
      "display_name": "Python 3"
    },
    "language_info": {
      "name": "python"
    }
  },
  "cells": [
    {
      "cell_type": "code",
      "execution_count": 5,
      "metadata": {
        "colab": {
          "base_uri": "https://localhost:8080/"
        },
        "id": "nXRCNPD1RM5_",
        "outputId": "ea686d8e-2cc4-449a-ed5b-f42f463aefec"
      },
      "outputs": [
        {
          "output_type": "stream",
          "name": "stdout",
          "text": [
            "550.0\n"
          ]
        }
      ],
      "source": [
        "def calc_value_tax(price: int, tax: float):\n",
        "    value_tax = price + (price * tax)\n",
        "    return value_tax\n",
        "price = 500\n",
        "tax  = 0.1\n",
        "result = calc_value_tax(price, tax)\n",
        "print(result)"
      ]
    },
    {
      "cell_type": "code",
      "source": [],
      "metadata": {
        "id": "yU1rOQCfRjPl"
      },
      "execution_count": null,
      "outputs": []
    }
  ]
}