{
  "nbformat": 4,
  "nbformat_minor": 0,
  "metadata": {
    "colab": {
      "provenance": []
    },
    "kernelspec": {
      "name": "python3",
      "display_name": "Python 3"
    },
    "language_info": {
      "name": "python"
    }
  },
  "cells": [
    {
      "cell_type": "code",
      "execution_count": 5,
      "metadata": {
        "colab": {
          "base_uri": "https://localhost:8080/"
        },
        "id": "nXRCNPD1RM5_",
        "outputId": "5055985f-707a-48c7-cf02-67652c08179f"
      },
      "outputs": [
        {
          "output_type": "stream",
          "name": "stdout",
          "text": [
            "2\n"
          ]
        }
      ],
      "source": [
        "var = 3\n",
        "if (var % 15) == 0:\n",
        "  print(\"FizzBuzz\")\n",
        "elif (var % 3) == 0:\n",
        "  print(\"Fizz\")\n",
        "elif (var % 5) == 0:\n",
        "  print(\"Buzz\")\n",
        "else:\n",
        "  print(var)\n"
      ]
    },
    {
      "cell_type": "code",
      "source": [],
      "metadata": {
        "id": "yU1rOQCfRjPl"
      },
      "execution_count": null,
      "outputs": []
    }
  ]
}